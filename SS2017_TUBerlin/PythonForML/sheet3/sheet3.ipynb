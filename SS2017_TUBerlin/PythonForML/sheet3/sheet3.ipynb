{
 "cells": [
  {
   "cell_type": "markdown",
   "metadata": {},
   "source": [
    "# Exercise Sheet 3: Sampling, Simulation"
   ]
  },
  {
   "cell_type": "markdown",
   "metadata": {},
   "source": [
    "In this exercise sheet, we will simulate a Markov chain. In the first part, we will consider a pure Python based implementation where a single particle jumps from one position to another of the lattice, where all transitions to neighboring states have the same probability. Then, we will add probability weightings for the transitions. Finally, the implementation will be parallelized to run many chains in parallel."
   ]
  },
  {
   "cell_type": "code",
   "execution_count": 73,
   "metadata": {
    "collapsed": true
   },
   "outputs": [],
   "source": [
    "%matplotlib inline"
   ]
  },
  {
   "cell_type": "markdown",
   "metadata": {
    "collapsed": true
   },
   "source": [
    "## Exercise 1: Random moves in a lattice (20 P)\n",
    "\n",
    "In this exercise, we will simulate the propagation of particles in a graph composed of 8 states (denoted by letters A-H) and stored in the variable `S` defined in the cell below. The lattice is the following:\n",
    "\n",
    "![](lattice.png)\n",
    "\n",
    "The particle starts in state `A` and then jumps randomly from its current state to one of its neighbors, all with same probability. Note that it cannot stay at the current position. The dictionary `T` defined in the cell below encode such transition behavior."
   ]
  },
  {
   "cell_type": "code",
   "execution_count": 84,
   "metadata": {
    "collapsed": true
   },
   "outputs": [],
   "source": [
    "# List of states\n",
    "S = 'ABCDEFGH'\n",
    "\n",
    "# Set of transitions\n",
    "T = {'A':'BE','B':'AFC','C':'BGD','D':'CH','E':'AF','F':'EBG','G':'FCH','H':'GD'}"
   ]
  },
  {
   "cell_type": "markdown",
   "metadata": {},
   "source": [
    "Using pure Python, simulate the experiment below and run it for 1999 iterations. Print the sequence of first 400 states visited by the particle.  To obtain the same results as in `pdf` solution file, you should initialize the seed of the module `random` to value `123` using the function `random.seed` before starting the simulation."
   ]
  },
  {
   "cell_type": "code",
   "execution_count": 75,
   "metadata": {},
   "outputs": [
    {
     "name": "stdout",
     "output_type": "stream",
     "text": [
      "ABABAEAEAEABFEABAEABFGFEFEFBAEFBCBFBCBFGCDHDHGHGFGFGHDCGCBFBFEAEABAEFGCDHDCGFGCDCBABFEABABFEABFEFBCBFGCGCDHGHDCBAEAEFEFGHGFGCGHGFEFBCDHDCDCGHDCGCGHGFBABFGFEAEFEFEABFGHDHGHDCDHGCBFEFGHDCDCBCGHGCDCDHGHGCGHGCGHGFGFGFBAEFEFEAEAEFGFGFEFGCBCBCDCDCDHDCGHGCDCBABFBFEAEFGHGHGFEAEABCBCGHGCDCGCBABAEAEAEFEFGHGFEAEFEABABAEAEAEABAEFEAEFEFEAEAEFBABCDCBFGFGFEABCGFEABCGHDHGCDCBABCDCBCBAEFBCDHGCDCGHDHGHGCDHGHDCBFGFB\n"
     ]
    }
   ],
   "source": [
    "import random\n",
    "random.seed(123)\n",
    "\n",
    "\n",
    "def markovChain(T,S,initState):\n",
    "    currentState = initState\n",
    "    ret =\"\"\n",
    "    for i in range(1999):\n",
    "        nextStates = T.get(currentState)\n",
    "        ret += currentState\n",
    "        currentState = random.choice(nextStates)\n",
    "    return ret\n",
    "\n",
    "    \n",
    "    \n",
    "exercise_1 = markovChain(T,S,\"A\")\n",
    "print exercise_1[:400]"
   ]
  },
  {
   "cell_type": "markdown",
   "metadata": {},
   "source": [
    "Using `matplotlib`, produce a bar plot (`matplotlib.pyplot.bar`) showing the fraction of the time the particle is found in a given state, averaged over the whole simulation."
   ]
  },
  {
   "cell_type": "code",
   "execution_count": 76,
   "metadata": {},
   "outputs": [
    {
     "data": {
      "image/png": "[encoded data removed]",
      "text/plain": [
       "<matplotlib.figure.Figure at 0x119ca2310>"
      ]
     },
     "metadata": {},
     "output_type": "display_data"
    }
   ],
   "source": [
    "import matplotlib.pyplot as pyt\n",
    "import scipy as sp\n",
    "\n",
    "index = sp.arange(8)\n",
    "\n",
    "def plot_string(S,s):\n",
    "    left = sp.arange(len(S))\n",
    "    height = [s.count(each) for each in S]\n",
    "    label = [each for each in S]\n",
    "    pyt.bar(left,height)\n",
    "    pyt.xticks(left,label)\n",
    "    pyt.show()\n",
    "    \n",
    "\n",
    "    \n",
    "plot_string(S,exercise_1)\n"
   ]
  },
  {
   "cell_type": "markdown",
   "metadata": {
    "collapsed": true
   },
   "source": [
    "## Exercise 2: Adding a special state (20 P)\n",
    "\n",
    "Suppose now that the rule is modified such that everytime the particle is in state `F`, it always moves to `E` in the next step.\n",
    "\n",
    "* Modify the code to handle this special case, and create a bar plot for the new states distribution."
   ]
  },
  {
   "cell_type": "code",
   "execution_count": 77,
   "metadata": {},
   "outputs": [
    {
     "data": {
      "image/png": "[encoded data removed]",
      "text/plain": [
       "<matplotlib.figure.Figure at 0x11344abd0>"
      ]
     },
     "metadata": {},
     "output_type": "display_data"
    }
   ],
   "source": [
    "\n",
    "# Set of transitions\n",
    "T_2= {'A':'BE','B':'AFC','C':'BGD','D':'CH','E':'AF','F':'E','G':'FCH','H':'GD'}\n",
    "\n",
    "\n",
    "exercise_2 = markovChain(T_2,S,\"A\")\n",
    "plot_string(S,exercise_2)"
   ]
  },
  {
   "cell_type": "markdown",
   "metadata": {},
   "source": [
    "## Exercise 3: Exact solution to the previous exercise (20 P)\n",
    "\n",
    "For simple Markov chains, a number of statistics can be obtained analytically from the structure of the transition model, in particular, by analysis of the transition matrix.\n",
    "\n",
    "* Compute the transition matrices associated to the models of exercise 1 and 2 (make sure that each row in these matrices sums to 1).\n",
    "* Give the transition matrices as argument to the function `utils.getstationary(P)` and print their result.\n",
    "\n",
    "This last function computes in closed form the stationary distribution associated to a given transition matrix `P` (i.e. the one we would get if running the simulation with such transition matrix for infinitely many time steps and looking at state frequencies)."
   ]
  },
  {
   "cell_type": "code",
   "execution_count": 78,
   "metadata": {},
   "outputs": [
    {
     "name": "stdout",
     "output_type": "stream",
     "text": [
      "[ 0.1   0.15  0.15  0.1   0.1   0.15  0.15  0.1 ]\n",
      "[ 0.18705036  0.11870504  0.07553957  0.04316547  0.29496403  0.20143885\n",
      "  0.04316547  0.03597122]\n"
     ]
    }
   ],
   "source": [
    "import utils\n",
    "\n",
    "\n",
    "def calculateMatrix(T,S):\n",
    "    mat = sp.zeros((len(S),len(S)))\n",
    "    for s in S:\n",
    "        stateSet = T.get(s)\n",
    "        for each in stateSet:\n",
    "             mat[S.index(s)][S.index(each)] = 1.0*stateSet.count(each)/len(stateSet)          \n",
    "    return mat\n",
    "\n",
    "print utils.getstationary(calculateMatrix(T,S))\n",
    "print utils.getstationary(calculateMatrix(T_2,S))"
   ]
  },
  {
   "cell_type": "markdown",
   "metadata": {},
   "source": [
    "## Exercise 4: Adding non-uniform transition probabilities (20 P)\n",
    "\n",
    "We consider the original lattice defined by the variable `T`. We set transition probabilities for each state to be such that: (1) the probability of moving left is always twice the probability of moving right when both moves are available. (2) The probability of moving vertically is the same as the probability of moving horizontally.\n",
    "\n",
    "* Build the transition matrix `P` implementing the described behavior, and compute its stationary distribution using the function `utils.getstationary(P)`.\n",
    "\n",
    "(Hints: You can notice that for each state, the transitions towards other states are always listed from left to right in the dictionary `T`. Also note that characters A-H can be mapped to integer values using the Python function ord(), thus, giving a direct relation between state names and indices of the transition matrix.)"
   ]
  },
  {
   "cell_type": "code",
   "execution_count": 93,
   "metadata": {},
   "outputs": [
    {
     "name": "stdout",
     "output_type": "stream",
     "text": [
      "[ 0.14285714  0.21428571  0.10714286  0.03571429  0.14285714  0.21428571\n",
      "  0.10714286  0.03571429]\n"
     ]
    }
   ],
   "source": [
    "import copy\n",
    "#just testing\n",
    "\n",
    "def newRule(T,S):\n",
    "    ret = copy.deepcopy(T)\n",
    "    for s in S:\n",
    "        last = ret.get(s)\n",
    "        new = last\n",
    "        for i in range(0,len(last)):\n",
    "            if (ord(s)-ord(last[i]) == 1):\n",
    "                new = new[:i]+last[i]+new[i:]\n",
    "        last = new\n",
    "        for i in range(0,len(last)):\n",
    "            if (sp.square(ord(s)-ord(last[i])) > 1):\n",
    "                new = new[:i]+last[i]*(len(last)-2)+new[i:]\n",
    "        ret[s] = new\n",
    "    return ret\n",
    "                    \n",
    "        \n",
    "\n",
    "print utils.getstationary(calculateMatrix(newRule(T,S),S))"
   ]
  },
  {
   "cell_type": "markdown",
   "metadata": {},
   "source": [
    "## Exercise 5: Simulation for multiple particles (20 P)\n",
    "\n",
    "We let 1000 particles evolve simultaneously in the system described in Exercise 4. The initial state of these particles is pseudo-random and given by the function `utils.getinitialstate()`.\n",
    "\n",
    "* Using the function `utils.mcstep()` that was introduced during the lecture, simulate this system for 500 time steps.\n",
    "* Estimate the stationary distribution by looking at the distribution of these particles in state space after 500 time steps.\n",
    "\n",
    "For reproducibility, give seed values to the function utils.mcstep corresponding to the current time step of the simulation (i.e. from 0 to 499)."
   ]
  },
  {
   "cell_type": "code",
   "execution_count": 97,
   "metadata": {},
   "outputs": [
    {
     "name": "stdout",
     "output_type": "stream",
     "text": [
      "final distribution of particles states: [0.145 0.238 0.096 0.030 0.139 0.214 0.096 0.042]\n"
     ]
    }
   ],
   "source": [
    "Particles = utils.getinitialstate()\n",
    "#add 0.0 at the beginning of each row\n",
    "P = sp.pad(calculateMatrix(newRule(T,S),S),1,mode='constant')[1:-1,:-1]\n",
    "for each in range(0,500):\n",
    "    Particles = utils.mcstep(Particles,P,each)\n",
    "    \n",
    "print 'final distribution of particles states: [%.3f %.3f %.3f %.3f %.3f %.3f %.3f %.3f]'%tuple(Particles.mean(axis=0))\n",
    "\n"
   ]
  },
  {
   "cell_type": "code",
   "execution_count": null,
   "metadata": {
    "collapsed": true
   },
   "outputs": [],
   "source": []
  }
 ],
 "metadata": {
  "kernelspec": {
   "display_name": "Python 2",
   "language": "python",
   "name": "python2"
  },
  "language_info": {
   "codemirror_mode": {
    "name": "ipython",
    "version": 2
   },
   "file_extension": ".py",
   "mimetype": "text/x-python",
   "name": "python",
   "nbconvert_exporter": "python",
   "pygments_lexer": "ipython2",
   "version": "2.7.13"
  }
 },
 "nbformat": 4,
 "nbformat_minor": 1
}
