{
 "cells": [
  {
   "cell_type": "markdown",
   "metadata": {},
   "source": [
    "# Exercise Sheet 1: Python Basics\n",
    "\n",
    "This first  exercise sheet tests the basic functionalities of the Python programming language in the context of a simple prediction task. We consider the problem of predicting health risk of subjects from personal data and habits. We first use for this task a decision tree\n",
    "\n",
    "![](tree.png)\n",
    "\n",
    "adapted from the webpage http://www.refactorthis.net/post/2013/04/10/Machine-Learning-tutorial-How-to-create-a-decision-tree-in-RapidMiner-using-the-Titanic-passenger-data-set.aspx. For this exercise sheet, you are required to use only pure Python, and to not import any module, including numpy. In exercise sheet 2, the nearest neighbor part of this exercise sheet will be revisited with numpy."
   ]
  },
  {
   "cell_type": "markdown",
   "metadata": {},
   "source": [
    "## Classifying a single instance (15 P)\n",
    "\n",
    "* Create a function that takes as input a tuple containing values for attributes (smoker,age,diet), and computes the output of the decision tree.\n",
    "* Test your function on the tuple `('yes',31,'good')`,"
   ]
  },
  {
   "cell_type": "code",
   "execution_count": 76,
   "metadata": {},
   "outputs": [
    {
     "data": {
      "text/plain": [
       "'more'"
      ]
     },
     "execution_count": 76,
     "metadata": {},
     "output_type": "execute_result"
    }
   ],
   "source": [
    "def decisionTree(data):\n",
    "    smoker = data[0]\n",
    "    age = data[1]\n",
    "    diet = data[2]\n",
    "    if smoker == 'yes':\n",
    "        if  int(age) > 29.5:\n",
    "            return 'more'\n",
    "        else:\n",
    "            return 'less'\n",
    "    elif smoker == 'no':\n",
    "        if diet == 'good':\n",
    "            return 'less'\n",
    "        else:\n",
    "            return 'more'\n",
    "\n",
    "decisionTree(('yes',31,'good'))\n",
    "            "
   ]
  },
  {
   "cell_type": "markdown",
   "metadata": {},
   "source": [
    "## Reading a dataset from a text file (10 P)\n",
    "\n",
    "The file `health-test.txt` contains several fictious records of personal data and habits.\n",
    "\n",
    "* Read the file automatically using the methods introduced during the lecture.\n",
    "* Represent the dataset as a list of tuples."
   ]
  },
  {
   "cell_type": "code",
   "execution_count": 79,
   "metadata": {
    "scrolled": false
   },
   "outputs": [
    {
     "data": {
      "text/plain": [
       "[('yes', 21.0, 'poor'),\n",
       " ('no', 50.0, 'good'),\n",
       " ('no', 23.0, 'good'),\n",
       " ('yes', 45.0, 'poor'),\n",
       " ('yes', 51.0, 'good'),\n",
       " ('no', 60.0, 'good'),\n",
       " ('no', 15.0, 'poor'),\n",
       " ('no', 18.0, 'good')]"
      ]
     },
     "execution_count": 79,
     "metadata": {},
     "output_type": "execute_result"
    }
   ],
   "source": [
    "def getTestSet():\n",
    "    f = open(\"health-test.txt\")\n",
    "    ret = []\n",
    "    for line in f:\n",
    "        x = line.strip().split(',')\n",
    "        ret.append((x[0],float(x[1]),x[2]))\n",
    "    return ret\n",
    "\n",
    "DataSet = getTestSet()\n",
    "DataSet\n",
    "    "
   ]
  },
  {
   "cell_type": "markdown",
   "metadata": {},
   "source": [
    "## Applying the decision tree to the dataset (15 P)\n",
    "\n",
    "* Apply the decision tree to all points in the dataset, and compute the percentage of them that are classified as \"more risk\"."
   ]
  },
  {
   "cell_type": "code",
   "execution_count": 77,
   "metadata": {},
   "outputs": [
    {
     "data": {
      "text/plain": [
       "0.375"
      ]
     },
     "execution_count": 77,
     "metadata": {},
     "output_type": "execute_result"
    }
   ],
   "source": [
    "\n",
    "more_risk = 0\n",
    "for each in DataSet:\n",
    "    if decisionTree(each) == 'more':\n",
    "        more_risk += 1.0\n",
    "        \n",
    "more_risk/len(DataSet)\n",
    "\n",
    "\n",
    "    "
   ]
  },
  {
   "cell_type": "markdown",
   "metadata": {},
   "source": [
    "## Learning from examples (10 P)\n",
    "\n",
    "Suppose that instead of relying on a fixed decision tree, we would like to use a data-driven approach where data points are classified based on a set of training observations manually labeled by experts. Such labeled dataset is available in the file `health-train.txt`. The first three columns have the same meaning than for `health-test.txt`, and the last column corresponds to the labels.\n",
    "\n",
    "* Write a procedure that reads this file and converts it into a list of pairs. The first element of each pair is a triplet of attributes, and the second element is the label."
   ]
  },
  {
   "cell_type": "code",
   "execution_count": 69,
   "metadata": {},
   "outputs": [
    {
     "data": {
      "text/plain": [
       "[(('yes', 54.0, 'good'), 'less'),\n",
       " (('no', 55.0, 'good'), 'less'),\n",
       " (('no', 26.0, 'good'), 'less'),\n",
       " (('yes', 40.0, 'good'), 'more'),\n",
       " (('yes', 25.0, 'poor'), 'less'),\n",
       " (('no', 13.0, 'poor'), 'more'),\n",
       " (('no', 15.0, 'good'), 'less'),\n",
       " (('no', 50.0, 'poor'), 'more'),\n",
       " (('yes', 33.0, 'good'), 'more'),\n",
       " (('no', 35.0, 'good'), 'less'),\n",
       " (('no', 41.0, 'good'), 'less'),\n",
       " (('yes', 30.0, 'poor'), 'more'),\n",
       " (('no', 39.0, 'poor'), 'more'),\n",
       " (('no', 20.0, 'good'), 'less'),\n",
       " (('yes', 18.0, 'poor'), 'less'),\n",
       " (('yes', 55.0, 'good'), 'more')]"
      ]
     },
     "execution_count": 69,
     "metadata": {},
     "output_type": "execute_result"
    }
   ],
   "source": [
    "def getTrainSet():\n",
    "    f = open(\"health-train.txt\")\n",
    "    ret = []\n",
    "    for line in f:\n",
    "        x = line.strip().split(',')\n",
    "        ret = ret + [((x[0],float(x[1]),x[2]),x[3])]\n",
    "    return ret\n",
    "\n",
    "getTrainSet()\n"
   ]
  },
  {
   "cell_type": "markdown",
   "metadata": {},
   "source": [
    "## Nearest neighbor classifier (25 P)\n",
    "\n",
    "We consider the nearest neighbor algorithm that classifies test points following the label of the nearest neighbor in the training data. For this, we need to define a distance function between data points. We define it to be\n",
    "\n",
    "`d(a,b) = (a[0]!=b[0])+((a[1]-b[1])/50.0)**2+(a[2]!=b[2])`\n",
    "\n",
    "where `a` and `b` are two tuples corrsponding to the attributes of two data points.\n",
    "\n",
    "* Write a function that retrieves for a test point the nearest neighbor in the training set, and classifies the test point accordingly.\n",
    "* Test your function on the tuple `('yes',31,'good')`"
   ]
  },
  {
   "cell_type": "code",
   "execution_count": 70,
   "metadata": {},
   "outputs": [
    {
     "data": {
      "text/plain": [
       "'more'"
      ]
     },
     "execution_count": 70,
     "metadata": {},
     "output_type": "execute_result"
    }
   ],
   "source": [
    "def d(a,b):\n",
    "    return (a[0]!=b[0])+((a[1]-b[1])/50.0)**2+(a[2]!=b[2])\n",
    "def NN(x, D):\n",
    "    d_list = []\n",
    "    for each in D:\n",
    "        d_list.append(d(each[0],x))\n",
    "    min_index = d_list.index(min(d_list))\n",
    "    return D[min_index][1]\n",
    "\n",
    "D = getTrainSet()\n",
    "NN(('yes',31,'good'),D)\n",
    "\n"
   ]
  },
  {
   "cell_type": "markdown",
   "metadata": {},
   "source": [
    "* Apply both the decision tree and nearest neighbor classifiers on the test set, and find the data point(s) for which the two classifiers disagree, and the fraction of the time it happens."
   ]
  },
  {
   "cell_type": "code",
   "execution_count": 86,
   "metadata": {},
   "outputs": [
    {
     "data": {
      "text/plain": [
       "([('yes', 51.0, 'good')], 0.125)"
      ]
     },
     "execution_count": 86,
     "metadata": {},
     "output_type": "execute_result"
    }
   ],
   "source": [
    "trainSet = getTrainSet()\n",
    "testSet = getTestSet()\n",
    "resultDT = []\n",
    "resultNN = []\n",
    "\n",
    "for each in testSet:\n",
    "    resultDT.append(decisionTree(each))\n",
    "    resultNN.append(NN(each,trainSet))\n",
    "\n",
    "\n",
    "diff_num = 0\n",
    "diff = []\n",
    "for index in range(len(resultDT)):\n",
    "    if resultDT[index] != resultNN[index]:\n",
    "        diff_num += 1.0\n",
    "        diff += [testSet[index]]\n",
    "\n",
    "diff_rate = diff_num/len(resultDT)\n",
    "(diff,diff_rate)"
   ]
  },
  {
   "cell_type": "markdown",
   "metadata": {},
   "source": [
    "One problem of simple nearest neighbors is that one needs to compare the point to predict to all data points in the training set. This can be slow for datasets of thousands of points or more. Alternatively, some classifiers train a model first, and then use it to classify the data.\n",
    "\n",
    "## Nearest mean classifier (25 P)\n",
    "\n",
    "We consider one such trainable model, which operates in two steps:\n",
    "\n",
    "(1) Compute the average point for each class, (2) classify new points to be of the class whose average point is nearest to the point to predict.\n",
    "\n",
    "For this classifier, we convert the attributes smoker and diet to real values (for smoker: yes=1.0 and no=0.0, and for diet: good=0.0 and poor=1.0), and use the modified distance function:\n",
    "\n",
    "`d(a,b) = (a[0]-b[0])**2+((a[1]-b[1])/50.0)**2+(a[2]-b[2])**2`\n",
    "\n",
    "We adopt an object-oriented approach for building this classifier.\n",
    "\n",
    "* Implement the methods `train` and `predict` of the class `NearestMeanClassifier`."
   ]
  },
  {
   "cell_type": "code",
   "execution_count": 178,
   "metadata": {},
   "outputs": [],
   "source": [
    "class NearestMeanClassifier:\n",
    "    \n",
    "    def dataCleaner(self,dataset):\n",
    "        smoker = 1.0 if dataset[0] == 'yes' else 0.0\n",
    "        diet = 1.0 if dataset[2] == 'poor' else 0.0\n",
    "        return (smoker,float(dataset[1]),diet)\n",
    "        \n",
    "    \n",
    "    def d(self,a,b):\n",
    "        \n",
    "        return (a[0]-b[0])**2+((a[1]-b[1])/50.0)**2+(a[2]-b[2])**2\n",
    "    \n",
    "\n",
    "        \n",
    "    # Training method that takes as input a dataset\n",
    "    # and produces two internal vectors corresponding\n",
    "    # to the mean of each class.\n",
    "    def train(self,dataset):\n",
    "        moreList = [self.dataCleaner(each[0]) for each in dataset if each[1] == 'more']\n",
    "        lessList = [self.dataCleaner(each[0]) for each in dataset if each[1] == 'less']\n",
    "        self.meanMore = tuple( [sum(x) / len(x) for x in zip(*moreList)])\n",
    "        self.meanLess = tuple( [sum(x) / len(x) for x in zip(*lessList)])\n",
    "        return self\n",
    "        \n",
    "        \n",
    "            \n",
    "    \n",
    "    # Prediction method that takes as input a new data\n",
    "    # point and predicts it to belong to the class with\n",
    "    # nearest mean.\n",
    "    def predict(self,x):\n",
    "        distanceToMore = self.d(self.dataCleaner(x), self.meanMore)\n",
    "        distanceToLess = self.d(self.dataCleaner(x), self.meanLess)\n",
    "        return 'more' if distanceToMore >= distanceToLess else 'less'\n",
    "    \n",
    "    def predict2(self,x):\n",
    "        x = self.dataCleaner(x)\n",
    "        distances = {y[0] : self.d(x, y[1]) for y in {'more': classifier.meanMore,'less': classifier.meanLess}.items()}\n",
    "        print \"distances: \",distances\n",
    "        return (x, min(distances, key=distances.get))\n",
    "    \n",
    "    \n"
   ]
  },
  {
   "cell_type": "markdown",
   "metadata": {},
   "source": [
    "* Build an object of class `NearestMeanClassifier`, train it on the training data, and print the mean vector for each class."
   ]
  },
  {
   "cell_type": "code",
   "execution_count": 179,
   "metadata": {},
   "outputs": [
    {
     "data": {
      "text/plain": [
       "{'less': (0.3333333333333333, 32.111111111111114, 0.2222222222222222),\n",
       " 'more': (0.5714285714285714, 37.142857142857146, 0.5714285714285714)}"
      ]
     },
     "execution_count": 179,
     "metadata": {},
     "output_type": "execute_result"
    }
   ],
   "source": [
    "classifier = NearestMeanClassifier()\n",
    "classifier.train(trainSet)\n",
    "{'more': classifier.meanMore,\n",
    "'less': classifier.meanLess}"
   ]
  },
  {
   "cell_type": "markdown",
   "metadata": {},
   "source": [
    "* Predict the test data using the nearest mean classifier and print all test examples for which all three classifiers (decision tree, nearest neighbor and nearest mean) agree."
   ]
  },
  {
   "cell_type": "code",
   "execution_count": 182,
   "metadata": {},
   "outputs": [
    {
     "name": "stdout",
     "output_type": "stream",
     "text": [
      "[(('yes', 21.0, 'poor'), 'less'), (('no', 50.0, 'good'), 'more'), (('no', 23.0, 'good'), 'more'), (('yes', 45.0, 'poor'), 'less'), (('yes', 51.0, 'good'), 'less'), (('no', 60.0, 'good'), 'more'), (('no', 15.0, 'poor'), 'less'), (('no', 18.0, 'good'), 'more')]\n",
      "['less', 'less', 'less', 'more', 'less', 'less', 'more', 'less']\n",
      "['less', 'less', 'less', 'more', 'more', 'less', 'more', 'less']\n"
     ]
    }
   ],
   "source": [
    "resultNM = []\n",
    "for each in testSet:\n",
    "    resultNM += [(each,classifier.predict(each))]\n",
    "\n",
    "\n",
    "\n",
    "threeAgree = []\n",
    "for i in range(len(resultNM)):\n",
    "    if resultNM[i] == resultDT[i] and resultNM[i] == resultNN[i]:\n",
    "        threeAgree += [resultNM[i]]\n",
    "\n",
    "print resultNM\n",
    "print resultNN\n",
    "print resultDT\n",
    "    \n"
   ]
  },
  {
   "cell_type": "code",
   "execution_count": null,
   "metadata": {
    "collapsed": true
   },
   "outputs": [],
   "source": []
  }
 ],
 "metadata": {
  "kernelspec": {
   "display_name": "Python 2",
   "language": "python",
   "name": "python2"
  },
  "language_info": {
   "codemirror_mode": {
    "name": "ipython",
    "version": 2
   },
   "file_extension": ".py",
   "mimetype": "text/x-python",
   "name": "python",
   "nbconvert_exporter": "python",
   "pygments_lexer": "ipython2",
   "version": "2.7.13"
  }
 },
 "nbformat": 4,
 "nbformat_minor": 1
}
