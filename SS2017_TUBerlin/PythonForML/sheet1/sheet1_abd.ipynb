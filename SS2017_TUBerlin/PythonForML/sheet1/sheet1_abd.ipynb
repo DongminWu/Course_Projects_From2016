{
 "cells": [
  {
   "cell_type": "markdown",
   "metadata": {},
   "source": [
    "# Exercise Sheet 1: Python Basics\n",
    "\n",
    "This first  exercise sheet tests the basic functionalities of the Python programming language in the context of a simple prediction task. We consider the problem of predicting health risk of subjects from personal data and habits. We first use for this task a decision tree\n",
    "\n",
    "![](tree.png)\n",
    "\n",
    "adapted from the webpage http://www.refactorthis.net/post/2013/04/10/Machine-Learning-tutorial-How-to-create-a-decision-tree-in-RapidMiner-using-the-Titanic-passenger-data-set.aspx. For this exercise sheet, you are required to use only pure Python, and to not import any module, including numpy. In exercise sheet 2, the nearest neighbor part of this exercise sheet will be revisited with numpy."
   ]
  },
  {
   "cell_type": "markdown",
   "metadata": {},
   "source": [
    "## Classifying a single instance (15 P)\n",
    "\n",
    "* Create a function that takes as input a tuple containing values for attributes (smoker,age,diet), and computes the output of the decision tree.\n",
    "* Test your function on the tuple `('yes',31,'good')`,"
   ]
  },
  {
   "cell_type": "code",
   "execution_count": 14,
   "metadata": {},
   "outputs": [
    {
     "data": {
      "text/plain": [
       "(('yes', 31, 'good'), 'more')"
      ]
     },
     "execution_count": 14,
     "metadata": {},
     "output_type": "execute_result"
    }
   ],
   "source": [
    "def predict(x):\n",
    "    smoker = x[0]\n",
    "    age = x[1]\n",
    "    diet = x[2]\n",
    "    if smoker == 'yes':\n",
    "        return  (x,'more') if age > 29.5 else (x, 'less')\n",
    "    else:\n",
    "        return (x, 'less') if diet == 'good' else (x, 'more')\n",
    "\n",
    "predict(('yes', 31, 'good'))"
   ]
  },
  {
   "cell_type": "markdown",
   "metadata": {},
   "source": [
    "## Reading a dataset from a text file (10 P)\n",
    "\n",
    "The file `health-test.txt` contains several fictious records of personal data and habits.\n",
    "\n",
    "* Read the file automatically using the methods introduced during the lecture.\n",
    "* Represent the dataset as a list of tuples."
   ]
  },
  {
   "cell_type": "code",
   "execution_count": 15,
   "metadata": {
    "scrolled": true
   },
   "outputs": [
    {
     "name": "stdout",
     "output_type": "stream",
     "text": [
      "[('yes', 21.0, 'poor'), ('no', 50.0, 'good'), ('no', 23.0, 'good'), ('yes', 45.0, 'poor'), ('yes', 51.0, 'good'), ('no', 60.0, 'good'), ('no', 15.0, 'poor'), ('no', 18.0, 'good')]\n"
     ]
    }
   ],
   "source": [
    "def getTestData():\n",
    "    f = open('health-test.txt','r')\n",
    "    T = []\n",
    "    for line in f:\n",
    "        x = str.split(line[:-1],',')\n",
    "        T = T + [(x[0], float(x[1]), x[2])]\n",
    "    return T\n",
    "\n",
    "L = getTestData()\n",
    "print L"
   ]
  },
  {
   "cell_type": "markdown",
   "metadata": {},
   "source": [
    "## Applying the decision tree to the dataset (15 P)\n",
    "\n",
    "* Apply the decision tree to all points in the dataset, and compute the percentage of them that are classified as \"more risk\"."
   ]
  },
  {
   "cell_type": "code",
   "execution_count": 16,
   "metadata": {},
   "outputs": [
    {
     "name": "stdout",
     "output_type": "stream",
     "text": [
      "0.375\n"
     ]
    }
   ],
   "source": [
    "p = sum([(1.0 if predict(x)[1] == 'more' else 0.0) for x in L])/len(L)\n",
    "\n",
    "print(p)"
   ]
  },
  {
   "cell_type": "markdown",
   "metadata": {},
   "source": [
    "## Learning from examples (10 P)\n",
    "\n",
    "Suppose that instead of relying on a fixed decision tree, we would like to use a data-driven approach where data points are classified based on a set of training observations manually labeled by experts. Such labeled dataset is available in the file `health-train.txt`. The first three columns have the same meaning than for `health-test.txt`, and the last column corresponds to the labels.\n",
    "\n",
    "* Write a procedure that reads this file and converts it into a list of pairs. The first element of each pair is a triplet of attributes, and the second element is the label."
   ]
  },
  {
   "cell_type": "code",
   "execution_count": 17,
   "metadata": {},
   "outputs": [
    {
     "data": {
      "text/plain": [
       "[(('yes', 54.0, 'good'), 'less'),\n",
       " (('no', 55.0, 'good'), 'less'),\n",
       " (('no', 26.0, 'good'), 'less'),\n",
       " (('yes', 40.0, 'good'), 'more'),\n",
       " (('yes', 25.0, 'poor'), 'less'),\n",
       " (('no', 13.0, 'poor'), 'more'),\n",
       " (('no', 15.0, 'good'), 'less'),\n",
       " (('no', 50.0, 'poor'), 'more'),\n",
       " (('yes', 33.0, 'good'), 'more'),\n",
       " (('no', 35.0, 'good'), 'less'),\n",
       " (('no', 41.0, 'good'), 'less'),\n",
       " (('yes', 30.0, 'poor'), 'more'),\n",
       " (('no', 39.0, 'poor'), 'more'),\n",
       " (('no', 20.0, 'good'), 'less'),\n",
       " (('yes', 18.0, 'poor'), 'less'),\n",
       " (('yes', 55.0, 'good'), 'more')]"
      ]
     },
     "execution_count": 17,
     "metadata": {},
     "output_type": "execute_result"
    }
   ],
   "source": [
    "def getTrainData():\n",
    "    f = open('health-train.txt','r')\n",
    "    L = []\n",
    "    for line in f:\n",
    "        x = str.split(line[:-1],',')\n",
    "        L = L + [((x[0], float(x[1]), x[2]), x[3])]\n",
    "    return L\n",
    "\n",
    "getTrainData()"
   ]
  },
  {
   "cell_type": "markdown",
   "metadata": {},
   "source": [
    "## Nearest neighbor classifier (25 P)\n",
    "\n",
    "We consider the nearest neighbor algorithm that classifies test points following the label of the nearest neighbor in the training data. For this, we need to define a distance function between data points. We define it to be\n",
    "\n",
    "`d(a,b) = (a[0]!=b[0])+((a[1]-b[1])/50.0)**2+(a[2]!=b[2])`\n",
    "\n",
    "where `a` and `b` are two tuples corrsponding to the attributes of two data points.\n",
    "\n",
    "* Write a function that retrieves for a test point the nearest neighbor in the training set, and classifies the test point accordingly.\n",
    "* Test your function on the tuple `('yes',31,'good')`"
   ]
  },
  {
   "cell_type": "code",
   "execution_count": 18,
   "metadata": {},
   "outputs": [
    {
     "data": {
      "text/plain": [
       "(('yes', 31, 'good'), 'more')"
      ]
     },
     "execution_count": 18,
     "metadata": {},
     "output_type": "execute_result"
    }
   ],
   "source": [
    "def distance(a, b):\n",
    "    return (a[0]!=b[0])+((a[1]-b[1])/50.0)**2+(a[2]!=b[2])\n",
    "def NN(x, D):\n",
    "    distances = [distance(x, y[0]) for y in D]\n",
    "    i = distances.index(min(distances))\n",
    "    nn = D[i]\n",
    "    return (x, nn[1])\n",
    "\n",
    "D = getTrainData()\n",
    "NN(('yes',31,'good'), D)"
   ]
  },
  {
   "cell_type": "markdown",
   "metadata": {},
   "source": [
    "* Apply both the decision tree and nearest neighbor classifiers on the test set, and find the data point(s) for which the two classifiers disagree, and the fraction of the time it happens."
   ]
  },
  {
   "cell_type": "code",
   "execution_count": 19,
   "metadata": {},
   "outputs": [
    {
     "data": {
      "text/plain": [
       "([('yes', 51.0, 'good')], 0.125)"
      ]
     },
     "execution_count": 19,
     "metadata": {},
     "output_type": "execute_result"
    }
   ],
   "source": [
    "testData = getTestData()\n",
    "trainData = getTrainData()\n",
    "treeResult = [predict(x) for x in testData]\n",
    "NNResult = [NN(x,trainData) for x in testData]\n",
    "\n",
    "diff = [x[0] for i,x in enumerate(treeResult) if x[1] != NNResult[i][1]]\n",
    "rate = float(len(diff))/len(treeResult)\n",
    "\n",
    "(diff,rate)"
   ]
  },
  {
   "cell_type": "markdown",
   "metadata": {},
   "source": [
    "One problem of simple nearest neighbors is that one needs to compare the point to predict to all data points in the training set. This can be slow for datasets of thousands of points or more. Alternatively, some classifiers train a model first, and then use it to classify the data.\n",
    "\n",
    "## Nearest mean classifier (25 P)\n",
    "\n",
    "We consider one such trainable model, which operates in two steps:\n",
    "\n",
    "(1) Compute the average point for each class, (2) classify new points to be of the class whose average point is nearest to the point to predict.\n",
    "\n",
    "For this classifier, we convert the attributes smoker and diet to real values (for smoker: yes=1.0 and no=0.0, and for diet: good=0.0 and poor=1.0), and use the modified distance function:\n",
    "\n",
    "`d(a,b) = (a[0]-b[0])**2+((a[1]-b[1])/50.0)**2+(a[2]-b[2])**2`\n",
    "\n",
    "We adopt an object-oriented approach for building this classifier.\n",
    "\n",
    "* Implement the methods `train` and `predict` of the class `NearestMeanClassifier`."
   ]
  },
  {
   "cell_type": "code",
   "execution_count": 21,
   "metadata": {},
   "outputs": [],
   "source": [
    "class NearestMeanClassifier:\n",
    "    \n",
    "    # Training method that takes as input a dataset\n",
    "    # and produces two internal vectors corresponding\n",
    "    # to the mean of each class.\n",
    "    def train(self,dataset):\n",
    "        dataset = [(self.convertDataPoint(x[0]), x[1]) for x in dataset]\n",
    "        moreClass = [x[0] for x in dataset if x[1] == 'more']\n",
    "        lessClass = [x[0] for x in dataset if x[1] == 'less']\n",
    "        meanMore = tuple([sum(x) / len(x) for x in zip(*moreClass)])\n",
    "        meanLess = tuple([sum(x) / len(x) for x in zip(*lessClass)])\n",
    "        print moreClass\n",
    "        self.means = {'more': meanMore, 'less': meanLess}\n",
    "        return self.means\n",
    "        ###\n",
    "    \n",
    "    # Prediction method that takes as input a new data\n",
    "    # point and predicts it to belong to the class with\n",
    "    # nearest mean.\n",
    "    def predict(self,x):\n",
    "        x = self.convertDataPoint(x)\n",
    "        print self.means.items()\n",
    "        distances = {y[0] : self.distance(x, y[1]) for y in self.means.items()}\n",
    "        return (x, min(distances, key=distances.get))\n",
    "    \n",
    "    \n",
    "    \n",
    "    def convertDataPoint(self, x):\n",
    "        return (1.0 if x[0] == 'yes' else 0.0, x[1], 1.0 if x[2] == 'poor' else 0.0)\n",
    "        ###\n",
    "    def distance(self, a, b):\n",
    "        return (a[0]-b[0])**2+((a[1]-b[1])/50.0)**2+(a[2]-b[2])**2"
   ]
  },
  {
   "cell_type": "markdown",
   "metadata": {},
   "source": [
    "* Build an object of class `NearestMeanClassifier`, train it on the training data, and print the mean vector for each class."
   ]
  },
  {
   "cell_type": "code",
   "execution_count": 22,
   "metadata": {},
   "outputs": [
    {
     "name": "stdout",
     "output_type": "stream",
     "text": [
      "[(1.0, 40.0, 0.0), (0.0, 13.0, 1.0), (0.0, 50.0, 1.0), (1.0, 33.0, 0.0), (1.0, 30.0, 1.0), (0.0, 39.0, 1.0), (1.0, 55.0, 0.0)]\n"
     ]
    },
    {
     "data": {
      "text/plain": [
       "{'less': (0.3333333333333333, 32.111111111111114, 0.2222222222222222),\n",
       " 'more': (0.5714285714285714, 37.142857142857146, 0.5714285714285714)}"
      ]
     },
     "execution_count": 22,
     "metadata": {},
     "output_type": "execute_result"
    }
   ],
   "source": [
    "classifier = NearestMeanClassifier()\n",
    "trainData = getTrainData()\n",
    "\n",
    "classifier.train(trainData)"
   ]
  },
  {
   "cell_type": "markdown",
   "metadata": {},
   "source": [
    "* Predict the test data using the nearest mean classifier and print all test examples for which all three classifiers (decision tree, nearest neighbor and nearest mean) agree."
   ]
  },
  {
   "cell_type": "code",
   "execution_count": 23,
   "metadata": {},
   "outputs": [
    {
     "name": "stdout",
     "output_type": "stream",
     "text": [
      "[('less', (0.3333333333333333, 32.111111111111114, 0.2222222222222222)), ('more', (0.5714285714285714, 37.142857142857146, 0.5714285714285714))]\n",
      "[('less', (0.3333333333333333, 32.111111111111114, 0.2222222222222222)), ('more', (0.5714285714285714, 37.142857142857146, 0.5714285714285714))]\n",
      "[('less', (0.3333333333333333, 32.111111111111114, 0.2222222222222222)), ('more', (0.5714285714285714, 37.142857142857146, 0.5714285714285714))]\n",
      "[('less', (0.3333333333333333, 32.111111111111114, 0.2222222222222222)), ('more', (0.5714285714285714, 37.142857142857146, 0.5714285714285714))]\n",
      "[('less', (0.3333333333333333, 32.111111111111114, 0.2222222222222222)), ('more', (0.5714285714285714, 37.142857142857146, 0.5714285714285714))]\n",
      "[('less', (0.3333333333333333, 32.111111111111114, 0.2222222222222222)), ('more', (0.5714285714285714, 37.142857142857146, 0.5714285714285714))]\n",
      "[('less', (0.3333333333333333, 32.111111111111114, 0.2222222222222222)), ('more', (0.5714285714285714, 37.142857142857146, 0.5714285714285714))]\n",
      "[('less', (0.3333333333333333, 32.111111111111114, 0.2222222222222222)), ('more', (0.5714285714285714, 37.142857142857146, 0.5714285714285714))]\n"
     ]
    },
    {
     "data": {
      "text/plain": [
       "[(('no', 50.0, 'good'), 'less'),\n",
       " (('no', 23.0, 'good'), 'less'),\n",
       " (('yes', 45.0, 'poor'), 'more'),\n",
       " (('no', 60.0, 'good'), 'less'),\n",
       " (('no', 15.0, 'poor'), 'more'),\n",
       " (('no', 18.0, 'good'), 'less')]"
      ]
     },
     "execution_count": 23,
     "metadata": {},
     "output_type": "execute_result"
    }
   ],
   "source": [
    "\n",
    "NearestMeanResult = [classifier.predict(x) for x in testData]\n",
    "[x for i,x in enumerate(treeResult) if x[1] == NNResult[i][1] and x[1] == NearestMeanResult[i][1]]\n"
   ]
  },
  {
   "cell_type": "code",
   "execution_count": null,
   "metadata": {
    "collapsed": true
   },
   "outputs": [],
   "source": []
  }
 ],
 "metadata": {
  "anaconda-cloud": {},
  "kernelspec": {
   "display_name": "Python 2",
   "language": "python",
   "name": "python2"
  },
  "language_info": {
   "codemirror_mode": {
    "name": "ipython",
    "version": 2
   },
   "file_extension": ".py",
   "mimetype": "text/x-python",
   "name": "python",
   "nbconvert_exporter": "python",
   "pygments_lexer": "ipython2",
   "version": "2.7.13"
  }
 },
 "nbformat": 4,
 "nbformat_minor": 1
}
